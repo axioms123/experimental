{
 "cells": [
  {
   "cell_type": "code",
   "execution_count": 1,
   "metadata": {},
   "outputs": [],
   "source": [
    "import pandas as pd\n",
    "import numpy as np\n",
    "import matplotlib.pyplot as plt"
   ]
  },
  {
   "cell_type": "code",
   "execution_count": 3,
   "metadata": {},
   "outputs": [
    {
     "data": {
      "image/png": "[encoded data removed]",
      "text/plain": [
       "<Figure size 432x288 with 1 Axes>"
      ]
     },
     "metadata": {
      "needs_background": "light"
     },
     "output_type": "display_data"
    }
   ],
   "source": [
    "commit_upfront = 80\n",
    "no_commit_upfront = 100\n",
    "\n",
    "commit_rate = 10.65\n",
    "no_commit_rate = 15.95\n",
    "\n",
    "commit_cancellation = 54\n",
    "no_commit_cancellation = 0\n",
    "\n",
    "months = 30\n",
    "\n",
    "commit_list = []\n",
    "for i in range(1,months):\n",
    "    x = commit_upfront + (i*commit_rate) + commit_cancellation\n",
    "    commit_list.append(x)\n",
    "    \n",
    "    \n",
    "commitX = [i for i in range(1, months)]\n",
    "\n",
    "no_commit_list = []\n",
    "for i in range(1,months):\n",
    "    x = no_commit_upfront + (i*no_commit_rate)\n",
    "    no_commit_list.append(x)\n",
    "    \n",
    "    \n",
    "NocommitX = [i for i in range(1, months)]\n",
    "\n",
    "\n",
    "t = commit_list\n",
    "\n",
    "x = no_commit_list\n",
    "\n",
    "\n",
    "\n",
    "plt.plot(commitX, t, label = 'Commitment')\n",
    "plt.plot( NocommitX, x, label = 'No commitment')\n",
    "\n",
    "\n",
    "# plt.axis([0, 15, 0, 1000])\n",
    "plt.xlabel('Months')\n",
    "plt.ylabel('Total Cost')\n",
    "plt.legend()\n",
    "plt.show()\n"
   ]
  },
  {
   "cell_type": "markdown",
   "metadata": {},
   "source": [
    " After Month 7 commitment starts to be cheaper than no-commitment. So only commit if you are staying longer than 7 months"
   ]
  },
  {
   "cell_type": "code",
   "execution_count": 10,
   "metadata": {},
   "outputs": [
    {
     "name": "stdout",
     "output_type": "stream",
     "text": [
      "Commitment\n",
      "months cost\n",
      "0 144.65\n",
      "1 155.3\n",
      "2 165.95\n",
      "3 176.6\n",
      "4 187.25\n",
      "5 197.9\n",
      "6 208.55\n",
      "7 219.2\n",
      "8 229.85000000000002\n",
      "9 240.5\n",
      "10 251.15\n",
      "11 261.8\n",
      "12 272.45000000000005\n",
      "13 283.1\n",
      "14 293.75\n",
      "15 304.4\n",
      "16 315.05\n",
      "17 325.70000000000005\n",
      "18 336.35\n",
      "19 347.0\n",
      "20 357.65\n",
      "21 368.3\n",
      "22 378.95000000000005\n",
      "23 389.6\n",
      "24 400.25\n",
      "25 410.90000000000003\n",
      "26 421.55\n",
      "27 432.2\n",
      "28 442.85\n"
     ]
    }
   ],
   "source": [
    "print('Commitment')\n",
    "print('months cost')\n",
    "for i, v in enumerate(t):\n",
    "    print(i, v)"
   ]
  },
  {
   "cell_type": "code",
   "execution_count": 12,
   "metadata": {},
   "outputs": [
    {
     "name": "stdout",
     "output_type": "stream",
     "text": [
      "No Commitment\n",
      "months cost\n",
      "0 115.95\n",
      "1 131.9\n",
      "2 147.85\n",
      "3 163.8\n",
      "4 179.75\n",
      "5 195.7\n",
      "6 211.64999999999998\n",
      "7 227.6\n",
      "8 243.54999999999998\n",
      "9 259.5\n",
      "10 275.45\n",
      "11 291.4\n",
      "12 307.35\n",
      "13 323.29999999999995\n",
      "14 339.25\n",
      "15 355.2\n",
      "16 371.15\n",
      "17 387.09999999999997\n",
      "18 403.05\n",
      "19 419.0\n",
      "20 434.95\n",
      "21 450.9\n",
      "22 466.84999999999997\n",
      "23 482.79999999999995\n",
      "24 498.75\n",
      "25 514.7\n",
      "26 530.65\n",
      "27 546.5999999999999\n",
      "28 562.55\n"
     ]
    }
   ],
   "source": [
    "print('No Commitment')\n",
    "print('months cost')\n",
    "for i, v in enumerate(x):\n",
    "    print(i, v)"
   ]
  },
  {
   "cell_type": "code",
   "execution_count": null,
   "metadata": {},
   "outputs": [],
   "source": []
  }
 ],
 "metadata": {
  "kernelspec": {
   "display_name": "Python 3",
   "language": "python",
   "name": "python3"
  },
  "language_info": {
   "codemirror_mode": {
    "name": "ipython",
    "version": 3
   },
   "file_extension": ".py",
   "mimetype": "text/x-python",
   "name": "python",
   "nbconvert_exporter": "python",
   "pygments_lexer": "ipython3",
   "version": "3.7.3"
  }
 },
 "nbformat": 4,
 "nbformat_minor": 4
}
